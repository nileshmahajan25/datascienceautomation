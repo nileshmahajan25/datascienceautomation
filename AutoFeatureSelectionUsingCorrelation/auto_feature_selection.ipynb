{
 "cells": [
  {
   "cell_type": "markdown",
   "id": "58c08ae6",
   "metadata": {},
   "source": [
    "# Demonstration of auto feature selection based on correlation and collinearity"
   ]
  },
  {
   "cell_type": "markdown",
   "id": "72070da9",
   "metadata": {},
   "source": [
    "## 1. Setup Environment"
   ]
  },
  {
   "cell_type": "code",
   "execution_count": 1,
   "id": "a896372e",
   "metadata": {},
   "outputs": [
    {
     "name": "stderr",
     "output_type": "stream",
     "text": [
      "C:\\Users\\ABCD\\AppData\\Local\\Temp\\ipykernel_12008\\3650076424.py:2: DeprecationWarning: Importing display from IPython.core.display is deprecated since IPython 7.14, please import from IPython display\n",
      "  from IPython.core.display import display, HTML\n"
     ]
    },
    {
     "data": {
      "text/html": [
       "<style>.container { width:100% !important; }</style>"
      ],
      "text/plain": [
       "<IPython.core.display.HTML object>"
      ]
     },
     "metadata": {},
     "output_type": "display_data"
    }
   ],
   "source": [
    "# Convert jupyter notebook into full screen\n",
    "from IPython.core.display import display, HTML\n",
    "display(HTML(\"<style>.container { width:100% !important; }</style>\"))\n",
    "\n",
    "# Reset all variables and objects in notebook\n",
    "%reset -f "
   ]
  },
  {
   "cell_type": "markdown",
   "id": "fa660e9b",
   "metadata": {},
   "source": [
    "## 2. Import library"
   ]
  },
  {
   "cell_type": "code",
   "execution_count": 2,
   "id": "00c38ab9",
   "metadata": {},
   "outputs": [],
   "source": [
    "import pandas as pd\n",
    "import copy\n",
    "import json"
   ]
  },
  {
   "cell_type": "markdown",
   "id": "3b91a714",
   "metadata": {},
   "source": [
    "## 3. Import dataset and different dataframe"
   ]
  },
  {
   "cell_type": "code",
   "execution_count": 3,
   "id": "7ee1aa74",
   "metadata": {},
   "outputs": [],
   "source": [
    "all_df = pd.read_csv(\"dataset.csv\")"
   ]
  },
  {
   "cell_type": "code",
   "execution_count": 4,
   "id": "b75771b1",
   "metadata": {},
   "outputs": [
    {
     "data": {
      "text/html": [
       "<div>\n",
       "<style scoped>\n",
       "    .dataframe tbody tr th:only-of-type {\n",
       "        vertical-align: middle;\n",
       "    }\n",
       "\n",
       "    .dataframe tbody tr th {\n",
       "        vertical-align: top;\n",
       "    }\n",
       "\n",
       "    .dataframe thead th {\n",
       "        text-align: right;\n",
       "    }\n",
       "</style>\n",
       "<table border=\"1\" class=\"dataframe\">\n",
       "  <thead>\n",
       "    <tr style=\"text-align: right;\">\n",
       "      <th></th>\n",
       "      <th>Cost</th>\n",
       "      <th>Weight</th>\n",
       "      <th>Weight1</th>\n",
       "      <th>Length</th>\n",
       "      <th>Height</th>\n",
       "      <th>Width</th>\n",
       "      <th>Color</th>\n",
       "    </tr>\n",
       "  </thead>\n",
       "  <tbody>\n",
       "    <tr>\n",
       "      <th>0</th>\n",
       "      <td>242.0</td>\n",
       "      <td>23.2</td>\n",
       "      <td>25.4</td>\n",
       "      <td>30</td>\n",
       "      <td>11.5200</td>\n",
       "      <td>4.02</td>\n",
       "      <td>Green</td>\n",
       "    </tr>\n",
       "    <tr>\n",
       "      <th>1</th>\n",
       "      <td>290.0</td>\n",
       "      <td>24</td>\n",
       "      <td>26.3</td>\n",
       "      <td>31.2</td>\n",
       "      <td>12.4800</td>\n",
       "      <td>4.3056</td>\n",
       "      <td>Red</td>\n",
       "    </tr>\n",
       "    <tr>\n",
       "      <th>2</th>\n",
       "      <td>340.0</td>\n",
       "      <td>23.9</td>\n",
       "      <td>26.5</td>\n",
       "      <td>31.1</td>\n",
       "      <td>12.3778</td>\n",
       "      <td>4.6961</td>\n",
       "      <td>Yellow</td>\n",
       "    </tr>\n",
       "    <tr>\n",
       "      <th>3</th>\n",
       "      <td>363.0</td>\n",
       "      <td>26.3</td>\n",
       "      <td>29</td>\n",
       "      <td>33.5</td>\n",
       "      <td>12.7300</td>\n",
       "      <td>4.4555</td>\n",
       "      <td>Green</td>\n",
       "    </tr>\n",
       "    <tr>\n",
       "      <th>4</th>\n",
       "      <td>430.0</td>\n",
       "      <td>26.5</td>\n",
       "      <td>29</td>\n",
       "      <td>34.25</td>\n",
       "      <td>12.4440</td>\n",
       "      <td>5.134</td>\n",
       "      <td>Red</td>\n",
       "    </tr>\n",
       "  </tbody>\n",
       "</table>\n",
       "</div>"
      ],
      "text/plain": [
       "    Cost Weight Weight1 Length   Height   Width   Color\n",
       "0  242.0   23.2    25.4     30  11.5200    4.02   Green\n",
       "1  290.0     24    26.3   31.2  12.4800  4.3056     Red\n",
       "2  340.0   23.9    26.5   31.1  12.3778  4.6961  Yellow\n",
       "3  363.0   26.3      29   33.5  12.7300  4.4555   Green\n",
       "4  430.0   26.5      29  34.25  12.4440   5.134     Red"
      ]
     },
     "execution_count": 4,
     "metadata": {},
     "output_type": "execute_result"
    }
   ],
   "source": [
    "all_df.head()"
   ]
  },
  {
   "cell_type": "code",
   "execution_count": 5,
   "id": "ef1d442b",
   "metadata": {},
   "outputs": [],
   "source": [
    "all_df['Color'].replace(['Green', 'Red', 'Yellow'], [0.0, 1.0, 2.0], inplace=True)\n",
    "all_df[[\"Weight\", \"Weight1\", \"Length\", \"Width\"]] = all_df[[\"Weight\", \"Weight1\", \"Length\", \"Width\"]].apply(pd.to_numeric, errors='coerce')"
   ]
  },
  {
   "cell_type": "code",
   "execution_count": 6,
   "id": "295115f9",
   "metadata": {},
   "outputs": [
    {
     "name": "stdout",
     "output_type": "stream",
     "text": [
      "<class 'pandas.core.frame.DataFrame'>\n",
      "RangeIndex: 159 entries, 0 to 158\n",
      "Data columns (total 7 columns):\n",
      " #   Column   Non-Null Count  Dtype  \n",
      "---  ------   --------------  -----  \n",
      " 0   Cost     159 non-null    float64\n",
      " 1   Weight   157 non-null    float64\n",
      " 2   Weight1  156 non-null    float64\n",
      " 3   Length   155 non-null    float64\n",
      " 4   Height   158 non-null    float64\n",
      " 5   Width    157 non-null    float64\n",
      " 6   Color    159 non-null    float64\n",
      "dtypes: float64(7)\n",
      "memory usage: 8.8 KB\n"
     ]
    }
   ],
   "source": [
    "all_df.info()"
   ]
  },
  {
   "cell_type": "markdown",
   "id": "80ffabce",
   "metadata": {},
   "source": [
    "## 4. Find correlation between different features"
   ]
  },
  {
   "cell_type": "code",
   "execution_count": 7,
   "id": "61f951d4",
   "metadata": {},
   "outputs": [
    {
     "name": "stdout",
     "output_type": "stream",
     "text": [
      "Please find below correlation between different features\n",
      "             Cost    Weight   Weight1    Length    Height     Width     Color\n",
      "Cost     1.000000  0.915702  0.920967  0.925433  0.724575  0.268487 -0.036169\n",
      "Weight   0.915702  1.000000  0.999534  0.992512  0.627608  0.238791 -0.028960\n",
      "Weight1  0.920967  0.999534  1.000000  0.994593  0.645978  0.237202 -0.033957\n",
      "Length   0.925433  0.992512  0.994593  1.000000  0.709255  0.226983 -0.032967\n",
      "Height   0.724575  0.627608  0.645978  0.709255  1.000000  0.012421 -0.039934\n",
      "Width    0.268487  0.238791  0.237202  0.226983  0.012421  1.000000  0.000622\n",
      "Color   -0.036169 -0.028960 -0.033957 -0.032967 -0.039934  0.000622  1.000000\n"
     ]
    }
   ],
   "source": [
    "corr = all_df.corr()\n",
    "print(\"Please find below correlation between different features\")\n",
    "print(corr)"
   ]
  },
  {
   "cell_type": "markdown",
   "id": "3adf1ae0",
   "metadata": {},
   "source": [
    "## 5. Find best features by using correlation and correlation"
   ]
  },
  {
   "cell_type": "code",
   "execution_count": 8,
   "id": "16c0ab2e",
   "metadata": {},
   "outputs": [],
   "source": [
    "def findBestFeatues(data, target_feature, collinear_threshold=0.80, corr_threshold=None):\n",
    "    '''\n",
    "    Input parameter:\n",
    "    data : DataFrame : Data on which want to perform feature selection\n",
    "    target_features : String : Target feature\n",
    "    collinear_threshold : float : This values lies between 0 and 1. If corrleation between two features is greater than this value then those consider as collinear.\n",
    "    corr_threshold : float : This values lies between 0 and 1. If corrleation between feature and target variable is smaller than this value then that feature consider as less impact on target variable. Then feature is discarded.\n",
    "    \n",
    "    Return:\n",
    "    reduced_features : dict : Contains ignorable features those are not as per correlation and collinear threshold. Feature name is key and the reason why not to consider this feature is  value.\n",
    "    corr_with_target : dict : Contains best features as per input correlation and collinear threshold. Feature name is key and its correlation with target variable is value.\n",
    "    '''\n",
    "    \n",
    "    corr_obj = json.loads(data.corr().to_json(orient='columns'))\n",
    "    # flag = True\n",
    "    reduced_features = dict()\n",
    "    available_features = list(corr_obj.keys())\n",
    "    available_features.remove(target_feature) # Available feature does not contains target variable\n",
    "    size_feature = len(available_features);\n",
    "    dropFeature = set();\n",
    "    i = 0;\n",
    "    \n",
    "    explaination_collinear = \"Correlation between feature {0} and {1} is {2}. As collinear threshold is {3} hence they are collinear. As correlation of feature {0} and target variable {4} is {5} higher than the correlation between feature {1} and target variable {4} is {6}. Hence we can drop feture {1}\"\n",
    "    # 0 : feature1, 1 : feature2 (drop), 2: correlation between feature1 and feture2,  3 : threshold, 4 : target variable, 5 : corr between feature1 and target variable, 6 : corr between feature2 and target variable\n",
    "    \n",
    "    explaination_corr = \"Correlation threshold is {0} and correlation between feature {1} and target variable {2} is {3}\"\n",
    "    # 0 : Correlation threshold, 1 : feature, 2 : target feature,  3 : Correlation between feature and target feature\n",
    "\n",
    "    # Drop all correlation with same feature and correlation of features with target variable \n",
    "    # We will keep correlation of target variable and features in single dictionary\n",
    "    for feature in corr_obj.keys():\n",
    "        del corr_obj[feature][feature];\n",
    "        if feature != target_feature:\n",
    "            del corr_obj[feature][target_feature];\n",
    "            \n",
    "            \n",
    "    # Remove all features those having less correlation with target variable than correlation threshold\n",
    "    if corr_threshold != None:\n",
    "        for feature in corr_obj[target_feature].keys():\n",
    "            if abs(corr_obj[target_feature][feature]) < corr_threshold:\n",
    "                reduced_features[feature] = explaination_corr.format(corr_threshold, feature, target_feature, abs(corr_obj[target_feature][feature]));  \n",
    "                dropFeature.add(feature)\n",
    "                \n",
    "        for feature in dropFeature:\n",
    "            del corr_obj[feature];\n",
    "            del corr_obj[target_feature][feature];\n",
    "            available_features.remove(feature);\n",
    "            size_feature = size_feature - 1;\n",
    "            \n",
    "    # Remove all features those having more than threshold collinearity\n",
    "    while i < size_feature:\n",
    "        j = i + 1\n",
    "        dropFeature = set() # Want to keep unique values\n",
    "        feature1 = available_features[i]\n",
    "        feature1_removed = False # check whether feture is getting removed or not\n",
    "        \n",
    "        while j < size_feature:\n",
    "            feature2 = available_features[j]\n",
    "            if abs(corr_obj[feature1][feature2]) >= collinear_threshold:\n",
    "                corr_of_features = abs(corr_obj[feature1][feature2]);\n",
    "                corr_feature1_with_target = corr_obj[target_feature][feature1]\n",
    "                corr_feature2_with_target = corr_obj[target_feature][feature2]\n",
    "                                \n",
    "                if corr_obj[target_feature][feature1] >= corr_obj[target_feature][feature2]:\n",
    "                    dropFeature.add(feature2);\n",
    "                    reduced_features[feature2] = explaination_collinear.format(feature1, feature2, corr_of_features, collinear_threshold, target_feature, corr_feature1_with_target, corr_feature2_with_target);\n",
    "                else:\n",
    "                    dropFeature.add(feature1);\n",
    "                    reduced_features[feature1] = explaination_collinear.format(feature2, feature1, corr_of_features, collinear_threshold, target_feature, corr_feature2_with_target, corr_feature1_with_target);\n",
    "                    feature1_removed = True;\n",
    "            j = j + 1;\n",
    "        \n",
    "        for feature1  in dropFeature:\n",
    "            available_features.remove(feature1);\n",
    "            del corr_obj[feature1];\n",
    "            for feature2 in corr_obj.keys():\n",
    "                del corr_obj[feature2][feature1];\n",
    "        \n",
    "        if feature1_removed == True:\n",
    "            size_feature = size_feature - 1;\n",
    "        else:\n",
    "            i = i + 1;\n",
    "    corr_with_target = dict()\n",
    "    \n",
    "    for feature1, corr1 in corr_obj[target_feature].items():\n",
    "        corr_with_target[feature1] = corr1\n",
    "            \n",
    "    return reduced_features, corr_with_target;"
   ]
  },
  {
   "cell_type": "code",
   "execution_count": 9,
   "id": "6953dfe5",
   "metadata": {},
   "outputs": [],
   "source": [
    "target_feature = \"Cost\"\n",
    "explained_corr, remaing_corr = findBestFeatues(all_df, target_feature, collinear_threshold=0.80, corr_threshold=0.70)"
   ]
  },
  {
   "cell_type": "code",
   "execution_count": 10,
   "id": "3fc77a68",
   "metadata": {},
   "outputs": [
    {
     "name": "stdout",
     "output_type": "stream",
     "text": [
      "Please find below feature which we can drop with explanation\n",
      "\n",
      "Width  :  Correlation threshold is 0.7 and correlation between feature Width and target variable Cost is 0.2684874245 \n",
      "\n",
      "Color  :  Correlation threshold is 0.7 and correlation between feature Color and target variable Cost is 0.0361686379 \n",
      "\n",
      "Weight  :  Correlation between feature Length and Weight is 0.9925119742. As collinear threshold is 0.8 hence they are collinear. As correlation of feature Length and target variable Cost is 0.9254328957 higher than the correlation between feature Weight and target variable Cost is 0.9157022523. Hence we can drop feture Weight \n",
      "\n",
      "Weight1  :  Correlation between feature Length and Weight1 is 0.9945926311. As collinear threshold is 0.8 hence they are collinear. As correlation of feature Length and target variable Cost is 0.9254328957 higher than the correlation between feature Weight1 and target variable Cost is 0.9209665712. Hence we can drop feture Weight1 \n",
      "\n"
     ]
    }
   ],
   "source": [
    "print(\"Please find below feature which we can drop with explanation\\n\")\n",
    "for feature1, val1 in explained_corr.items():\n",
    "    print(\"{0}  :  {1} \\n\".format(feature1, val1))"
   ]
  },
  {
   "cell_type": "code",
   "execution_count": 11,
   "id": "e67dce2b",
   "metadata": {},
   "outputs": [
    {
     "name": "stdout",
     "output_type": "stream",
     "text": [
      "Please find below feature which we can drop : \n",
      "Width\n",
      "Color\n",
      "Weight\n",
      "Weight1\n"
     ]
    }
   ],
   "source": [
    "print(\"Please find below feature which we can drop : \")\n",
    "for feature in explained_corr.keys():\n",
    "    print(feature)"
   ]
  },
  {
   "cell_type": "code",
   "execution_count": 12,
   "id": "3902f7e9",
   "metadata": {},
   "outputs": [
    {
     "name": "stdout",
     "output_type": "stream",
     "text": [
      "Below features have the best correlation with target variable Cost and selected after keeping correlation threshold 0.70 and collinear threshold 0.80\n",
      "Length  :  0.9254328957 \n",
      "Height  :  0.7245751661 \n"
     ]
    }
   ],
   "source": [
    "print(\"Below features have the best correlation with target variable {0} and selected after keeping correlation threshold 0.70 and collinear threshold 0.80\".format(target_feature))\n",
    "for feature1, val1 in remaing_corr.items():\n",
    "    print(\"{0}  :  {1} \".format(feature1, val1))"
   ]
  },
  {
   "cell_type": "markdown",
   "id": "30b4fb0f",
   "metadata": {},
   "source": [
    "## 6. Cleanup"
   ]
  },
  {
   "cell_type": "code",
   "execution_count": 13,
   "id": "292b4248",
   "metadata": {},
   "outputs": [],
   "source": [
    "# Reset all variables and objects in notebook\n",
    "%reset -f "
   ]
  }
 ],
 "metadata": {
  "kernelspec": {
   "display_name": "Python 3 (ipykernel)",
   "language": "python",
   "name": "python3"
  },
  "language_info": {
   "codemirror_mode": {
    "name": "ipython",
    "version": 3
   },
   "file_extension": ".py",
   "mimetype": "text/x-python",
   "name": "python",
   "nbconvert_exporter": "python",
   "pygments_lexer": "ipython3",
   "version": "3.9.12"
  }
 },
 "nbformat": 4,
 "nbformat_minor": 5
}
